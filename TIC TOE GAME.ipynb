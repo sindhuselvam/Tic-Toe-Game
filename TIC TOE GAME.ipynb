{
 "cells": [
  {
   "cell_type": "code",
   "execution_count": 1,
   "metadata": {},
   "outputs": [],
   "source": [
    "#to display board\n",
    "\n",
    "def display_board(theboard):\n",
    "    print(theboard[1] +' | '+ theboard[2] +'| ' +  theboard[3])\n",
    "    print(\"--|--|--\")\n",
    "    print(theboard[4]+ ' | '+ theboard[5] +'| '+  theboard[6])\n",
    "    print(\"--|--|--\")\n",
    "    print(theboard[7]+ ' | '+ theboard[8] +'| '+  theboard[9])\n",
    "    \n"
   ]
  },
  {
   "cell_type": "code",
   "execution_count": 2,
   "metadata": {},
   "outputs": [],
   "source": [
    "#to assign the user with the marker 'X' or 'O'\n",
    "def player_input():\n",
    "    marker='WRONG'\n",
    "    while marker !=\"X\" and marker!=\"O\":\n",
    "        marker= input(\"Player 1 please choose the marker X or O :\")\n",
    "    Player1_marker= marker\n",
    "    \n",
    "    if Player1_marker =='X':\n",
    "        Player2_marker ='O'\n",
    "    \n",
    "    else:\n",
    "        Player2_marker='X'\n",
    "    \n",
    "    return (Player1_marker,Player2_marker)\n",
    "    \n",
    "    "
   ]
  },
  {
   "cell_type": "code",
   "execution_count": 3,
   "metadata": {},
   "outputs": [],
   "source": [
    "#function to take in the board list object, a marker and a desired postion(1-9)\n",
    "def place_marker(theboard, marker, position):\n",
    "    theboard[position]=marker\n"
   ]
  },
  {
   "cell_type": "code",
   "execution_count": 4,
   "metadata": {},
   "outputs": [],
   "source": [
    "#function to take a board and mark 'X,O' and check to see if that mark has won\n",
    "def win_check(position, marker):\n",
    "    return((theboard[1] ==theboard[2] ==theboard[3] == marker)or\n",
    "           (theboard[4] ==theboard[5] ==theboard[6] == marker)or\n",
    "           (theboard[7] ==theboard[8] ==theboard[9] == marker)or\n",
    "           (theboard[1] ==theboard[4] ==theboard[7] == marker)or\n",
    "           (theboard[2] ==theboard[5] ==theboard[8] == marker)or\n",
    "           (theboard[3] ==theboard[6] ==theboard[9] == marker)or\n",
    "           (theboard[1] ==theboard[5] ==theboard[9] == marker)or\n",
    "           (theboard[3] ==theboard[5] ==theboard[7] == marker))\n"
   ]
  },
  {
   "cell_type": "code",
   "execution_count": 5,
   "metadata": {},
   "outputs": [],
   "source": [
    "# function to randomly decide which player goes first\n",
    "import random \n",
    "\n",
    "def choose_first():\n",
    "    flip= random.randint(0,1)\n",
    "    if flip==0:\n",
    "        return'Player1'\n",
    "    else:\n",
    "        return'Player2'"
   ]
  },
  {
   "cell_type": "code",
   "execution_count": 6,
   "metadata": {},
   "outputs": [],
   "source": [
    "# function to check if there is a free space available in the board\n",
    "def space_check(theboard, position):\n",
    "        return theboard[position] ==' '"
   ]
  },
  {
   "cell_type": "code",
   "execution_count": 7,
   "metadata": {},
   "outputs": [],
   "source": [
    "# function to check if the board is full\n",
    "def fullboard_check(theboard):\n",
    "    for i in range(1,10):\n",
    "        if space_check(theboard, i):\n",
    "            return False\n",
    "    return True\n",
    "    \n"
   ]
  },
  {
   "cell_type": "code",
   "execution_count": 8,
   "metadata": {},
   "outputs": [],
   "source": [
    "#function to ask for players next position(1-9) and also check if there is free space in the board using space_Check function if there is free position , return the position for future use\n",
    "def player_choice(theboard):\n",
    "    position=0\n",
    "    \n",
    "    while position not in [1,2,3,4,5,6,7,8,9] or not space_check(theboard, position):\n",
    "        position= int(input('choose position: (1-9)'))\n",
    "    return position\n"
   ]
  },
  {
   "cell_type": "code",
   "execution_count": 9,
   "metadata": {},
   "outputs": [],
   "source": [
    "# function to ask the players if they want to play again\n",
    "def replay():\n",
    "    choice= input(\"Do you want to play again ? Yes or No \")\n",
    "    \n",
    "    return choice== 'Yes'"
   ]
  },
  {
   "cell_type": "code",
   "execution_count": null,
   "metadata": {},
   "outputs": [
    {
     "name": "stdout",
     "output_type": "stream",
     "text": [
      "Welcome to TIC-TOE GAME\n",
      "Player 1 please choose the marker X or O :X\n",
      "Player2will go first\n",
      "Are you ready to play? Enter Yes or No.Y\n",
      "  |  |  \n",
      "--|--|--\n",
      "  |  |  \n",
      "--|--|--\n",
      "  |  |  \n",
      "choose position: (1-9)1\n",
      "O |  |  \n",
      "--|--|--\n",
      "  |  |  \n",
      "--|--|--\n",
      "  |  |  \n",
      "choose position: (1-9)5\n",
      "O |  |  \n",
      "--|--|--\n",
      "  | X|  \n",
      "--|--|--\n",
      "  |  |  \n",
      "choose position: (1-9)3\n",
      "O |  | O\n",
      "--|--|--\n",
      "  | X|  \n",
      "--|--|--\n",
      "  |  |  \n",
      "choose position: (1-9)6\n",
      "O |  | O\n",
      "--|--|--\n",
      "  | X| X\n",
      "--|--|--\n",
      "  |  |  \n",
      "choose position: (1-9)2\n",
      "O | O| O\n",
      "--|--|--\n",
      "  | X| X\n",
      "--|--|--\n",
      "  |  |  \n",
      "Congratulations! Player 2 have won the game!\n"
     ]
    }
   ],
   "source": [
    "print('Welcome to TIC-TOE GAME')\n",
    "\n",
    "while True:\n",
    "    #resetting the board\n",
    "    theboard=[' ']*10\n",
    "    Player1_marker, Player2_marker= player_input()\n",
    "    Turn= choose_first()\n",
    "    print( Turn + 'will go first')\n",
    "    \n",
    "    play_game= input('Are you ready to play? Enter Yes or No.')\n",
    "    if play_game.lower()[0]=='y':\n",
    "        game_on= True\n",
    "    else:\n",
    "        game_on= False\n",
    "        \n",
    "    while game_on:\n",
    "        if Turn=='Player1': #player1's turn\n",
    "        #show the board\n",
    "            display_board(theboard)\n",
    "        #choose a position\n",
    "            position = player_choice(theboard)\n",
    "        #Place the marker on the position \n",
    "            place_marker(theboard, Player1_marker, position)\n",
    "        #check if they won\n",
    "            if win_check(theboard, Player1_marker):\n",
    "                display_board(theboard)\n",
    "                print('Congratulations! Player 1 have won the game!')\n",
    "                game_on = False\n",
    "            else:  #or check if they is a tie\n",
    "                if fullboard_check(theboard):\n",
    "                    display_board(theboard)\n",
    "                    print('The game is draw!')\n",
    "                    break\n",
    "                else:#No tie and No win, Then next players turn \n",
    "                    Turn ='Player2'\n",
    "        else:\n",
    "            display_board(theboard)\n",
    "            position = player_choice(theboard)\n",
    "            place_marker(theboard, Player2_marker, position)\n",
    "            if win_check(theboard, Player2_marker):\n",
    "                display_board(theboard)\n",
    "                print('Congratulations! Player 2 have won the game!')\n",
    "                game_on = False\n",
    "            else:\n",
    "                if fullboard_check(theboard):\n",
    "                    display_board(theboard)\n",
    "                    print('The game is draw!')\n",
    "                    break\n",
    "                else:\n",
    "                    Turn ='Player1'\n",
    "\n",
    "    if not replay():\n",
    "        break\n",
    "      \n",
    "        \n",
    "        \n",
    "    \n",
    "        \n",
    "    "
   ]
  },
  {
   "cell_type": "code",
   "execution_count": null,
   "metadata": {},
   "outputs": [],
   "source": []
  },
  {
   "cell_type": "code",
   "execution_count": null,
   "metadata": {},
   "outputs": [],
   "source": []
  },
  {
   "cell_type": "code",
   "execution_count": null,
   "metadata": {},
   "outputs": [],
   "source": []
  }
 ],
 "metadata": {
  "kernelspec": {
   "display_name": "Python 3",
   "language": "python",
   "name": "python3"
  },
  "language_info": {
   "codemirror_mode": {
    "name": "ipython",
    "version": 3
   },
   "file_extension": ".py",
   "mimetype": "text/x-python",
   "name": "python",
   "nbconvert_exporter": "python",
   "pygments_lexer": "ipython3",
   "version": "3.7.6"
  }
 },
 "nbformat": 4,
 "nbformat_minor": 4
}
